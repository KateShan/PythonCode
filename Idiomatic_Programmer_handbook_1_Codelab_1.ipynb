{
  "nbformat": 4,
  "nbformat_minor": 0,
  "metadata": {
    "kernelspec": {
      "display_name": "Python 3",
      "language": "python",
      "name": "python3"
    },
    "language_info": {
      "codemirror_mode": {
        "name": "ipython",
        "version": 3
      },
      "file_extension": ".py",
      "mimetype": "text/x-python",
      "name": "python",
      "nbconvert_exporter": "python",
      "pygments_lexer": "ipython3",
      "version": "3.6.6"
    },
    "colab": {
      "name": "Copy of Idiomatic Programmer - handbook 1 - Codelab 1.ipynb",
      "version": "0.3.2",
      "provenance": [],
      "include_colab_link": true
    }
  },
  "cells": [
    {
      "cell_type": "markdown",
      "metadata": {
        "id": "view-in-github",
        "colab_type": "text"
      },
      "source": [
        "<a href=\"https://colab.research.google.com/github/KateShan/PythonCode/blob/master/Idiomatic_Programmer_handbook_1_Codelab_1.ipynb\" target=\"_parent\"><img src=\"https://colab.research.google.com/assets/colab-badge.svg\" alt=\"Open In Colab\"/></a>"
      ]
    },
    {
      "cell_type": "code",
      "metadata": {
        "id": "xHwd3f5pUEet",
        "colab_type": "code",
        "colab": {}
      },
      "source": [
        "# Copyright 2019 Google LLC\n",
        "#\n",
        "# Licensed under the Apache License, Version 2.0 (the \"License\");\n",
        "# you may not use this file except in compliance with the License.\n",
        "# You may obtain a copy of the License at\n",
        "#\n",
        "#     https://www.apache.org/licenses/LICENSE-2.0\n",
        "#\n",
        "# Unless required by applicable law or agreed to in writing, software\n",
        "# distributed under the License is distributed on an \"AS IS\" BASIS,\n",
        "# WITHOUT WARRANTIES OR CONDITIONS OF ANY KIND, either express or implied.\n",
        "# See the License for the specific language governing permissions and\n",
        "# limitations under the License."
      ],
      "execution_count": 0,
      "outputs": []
    },
    {
      "cell_type": "markdown",
      "metadata": {
        "id": "XJjaOYBoUEe2",
        "colab_type": "text"
      },
      "source": [
        "<a target=\"_blank\" href=\"https://colab.research.google.com/github/GoogleCloudPlatform/keras-idiomatic-programmer/blob/master/workshops/Neural_Networks/Idiomatic Programmer - handbook 1 - Codelab 1.ipynb\">\n",
        "<img src=\"https://www.tensorflow.org/images/colab_logo_32px.png\" />Run in Google Colab</a>"
      ]
    },
    {
      "cell_type": "markdown",
      "metadata": {
        "id": "HpWIukt_UEe4",
        "colab_type": "text"
      },
      "source": [
        "# Idiomatic Programmer - Code Labs \n",
        "\n",
        "## Code Lab #1 - Get Started with a Deep Neural Network (DNN)\n",
        "\n",
        "## Prerequistes:\n",
        "\n",
        "    1. Familiar with Python\n",
        "    2. Completed Handbook 1/Part 1: Neural Networks\n",
        "    \n",
        "## Objectives:\n",
        "\n",
        "    1. Install Keras related packages\n",
        "    2. Create a basic DNN (input layer, hidden layer, output layer)\n",
        "        A. Correctly set the input shape.\n",
        "        B. Correctly set the number of nodes.\n",
        "        C. Correctly set activation function.\n",
        "        D. Practive using various Sequential API styles and the Functional API.\n",
        "    3. Review a model.summary()"
      ]
    },
    {
      "cell_type": "markdown",
      "metadata": {
        "id": "kCVEBOkQUEe5",
        "colab_type": "text"
      },
      "source": [
        "## Setup:\n",
        "\n",
        "Install relevant packages to get started with Keras, and then import them."
      ]
    },
    {
      "cell_type": "code",
      "metadata": {
        "id": "kcsDGFvGUEe8",
        "colab_type": "code",
        "colab": {}
      },
      "source": [
        "# Install numpy math library\n",
        "!pip install -U numpy\n",
        "# Install Keras framework\n",
        "!pip install -U keras\n",
        "# Install Tensorflow backend\n",
        "!pip install -U tensorflow\n",
        "\n",
        "# Import keras and TF\n",
        "import keras\n",
        "import tensorflow as tf\n",
        "import numpy as np\n",
        "\n",
        "print(np.__version__)              # should be 1.16.4\n",
        "print(tf.__version__)              # should be 1.13.1\n",
        "print(keras.__version__)           # should be 2.2.4"
      ],
      "execution_count": 0,
      "outputs": []
    },
    {
      "cell_type": "markdown",
      "metadata": {
        "id": "cMSHnQPkUEfP",
        "colab_type": "text"
      },
      "source": [
        "## Basic DNN as Sequential API (long form)\n",
        "\n",
        "Let's use the long form of a Sequential method. That means that we will use the add() method for each step.\n",
        "\n",
        "Below is a nearly complete DNN for a multi-class classifier. You fill in the blanks (replace the ??), make sure it passes the Python interpreter, and then verify it's correctness with the summary output.\n",
        "\n",
        "You will need to:\n",
        "\n",
        "    1. Fill in the input shape for the 28x28 image input.\n",
        "    2. Specify number of nodes for the dense layers.\n",
        "    3. Set the activation function for the hidden dense layers and ouput dense layer."
      ]
    },
    {
      "cell_type": "code",
      "metadata": {
        "id": "aV0JSh-EUEfQ",
        "colab_type": "code",
        "colab": {}
      },
      "source": [
        "from tensorflow.keras import Sequential\n",
        "from tensorflow.keras.layers import Flatten, Dense, Activation\n",
        "\n",
        "# define the input shape for a 28x28 grayscale image (like MNIST)\n",
        "# HINT: should be a tuple of height and width\n",
        "input_shape=(28,28)\n",
        "\n",
        "# Let's start a sequential model\n",
        "model = Sequential()\n",
        "\n",
        "# Let's flatten the 28x28 image to a 784 1D vector\n",
        "model.add(Flatten(input_shape=input_shape))\n",
        "\n",
        "# Let's add the input layer as a dense layer of 128 nodes\n",
        "# HINT: the parameter is the number of nodes\n",
        "model.add(Dense(128))\n",
        "\n",
        "# Add the activation function\n",
        "# HINT: use the best practice convention for a non-output Dense layer\n",
        "model.add(Activation(\"relu\"))\n",
        "\n",
        "# Add the hidden layer with 512 nodes\n",
        "model.add(Dense(512))\n",
        "model.add(Activation(\"relu\"))\n",
        "\n",
        "# Add the output layer with 10 nodes\n",
        "model.add(Dense(10))\n",
        "\n",
        "# Add the activation function\n",
        "# HINT: use the best practice for a multi-class classifier\n",
        "model.add(Activation(\"softmax\"))"
      ],
      "execution_count": 0,
      "outputs": []
    },
    {
      "cell_type": "markdown",
      "metadata": {
        "id": "yHddHABDUEfS",
        "colab_type": "text"
      },
      "source": [
        "### Verify the model architecture using summary method\n",
        "\n",
        "It should look like below:\n",
        "\n",
        "```\n",
        "Layer (type)                 Output Shape              Param #   \n",
        "=================================================================\n",
        "flatten_1 (Flatten)          (None, 784)               0         \n",
        "_________________________________________________________________\n",
        "dense_4 (Dense)              (None, 128)               100480    \n",
        "_________________________________________________________________\n",
        "activation_4 (Activation)    (None, 128)               0         \n",
        "_________________________________________________________________\n",
        "dense_5 (Dense)              (None, 512)               66048     \n",
        "_________________________________________________________________\n",
        "activation_5 (Activation)    (None, 512)               0         \n",
        "_________________________________________________________________\n",
        "dense_6 (Dense)              (None, 10)                5130      \n",
        "_________________________________________________________________\n",
        "activation_6 (Activation)    (None, 10)                0         \n",
        "=================================================================\n",
        "Total params: 171,658\n",
        "Trainable params: 171,658\n",
        "Non-trainable params: 0\n",
        "```"
      ]
    },
    {
      "cell_type": "code",
      "metadata": {
        "id": "swNuvN2HUEfT",
        "colab_type": "code",
        "outputId": "b061a636-246d-4621-f788-af49fc8f6d3e",
        "colab": {
          "base_uri": "https://localhost:8080/",
          "height": 391
        }
      },
      "source": [
        "model.summary()"
      ],
      "execution_count": 0,
      "outputs": [
        {
          "output_type": "stream",
          "text": [
            "Model: \"sequential_5\"\n",
            "_________________________________________________________________\n",
            "Layer (type)                 Output Shape              Param #   \n",
            "=================================================================\n",
            "flatten_5 (Flatten)          (None, 784)               0         \n",
            "_________________________________________________________________\n",
            "dense_3 (Dense)              (None, 128)               100480    \n",
            "_________________________________________________________________\n",
            "activation_2 (Activation)    (None, 128)               0         \n",
            "_________________________________________________________________\n",
            "dense_4 (Dense)              (None, 512)               66048     \n",
            "_________________________________________________________________\n",
            "activation_3 (Activation)    (None, 512)               0         \n",
            "_________________________________________________________________\n",
            "dense_5 (Dense)              (None, 10)                5130      \n",
            "_________________________________________________________________\n",
            "activation_4 (Activation)    (None, 10)                0         \n",
            "=================================================================\n",
            "Total params: 171,658\n",
            "Trainable params: 171,658\n",
            "Non-trainable params: 0\n",
            "_________________________________________________________________\n"
          ],
          "name": "stdout"
        }
      ]
    },
    {
      "cell_type": "markdown",
      "metadata": {
        "id": "GVj1VgT4UEfV",
        "colab_type": "text"
      },
      "source": [
        "##  Basic DNN as Sequential API (short form)\n",
        "\n",
        "Let's repeat the above, but use the short form.\n",
        "\n",
        "You will need to:\n",
        "\n",
        "    1. Specify the activation functions as a parameter."
      ]
    },
    {
      "cell_type": "code",
      "metadata": {
        "id": "zDCz-w7EUEfW",
        "colab_type": "code",
        "colab": {}
      },
      "source": [
        "from tensorflow.keras import Sequential\n",
        "from tensorflow.keras.layers import Dense\n",
        "\n",
        "# Let's start a sequential model\n",
        "model = Sequential()\n",
        "\n",
        "# Let's add a first flattening layer to flatten the 28x28 image into 1D vector\n",
        "model.add(Flatten(input_shape=(28, 28, 1)))\n",
        "\n",
        "# Let's add the input layer as a dense layer of 128 nodes\n",
        "# HINT: use best practices for activation functions\n",
        "model.add(Dense(128, activation=\"relu\"))\n",
        "\n",
        "# Add the hidden layer with 512 nodes\n",
        "model.add(Dense(512, activation=\"relu\"))\n",
        "\n",
        "# Add the output layer with 10 nodes\n",
        "model.add(Dense(10, activation=\"softmax\"))"
      ],
      "execution_count": 0,
      "outputs": []
    },
    {
      "cell_type": "markdown",
      "metadata": {
        "id": "IjxpYkWkUEfY",
        "colab_type": "text"
      },
      "source": [
        "### Verify the model architecture using summary method\n",
        "\n",
        "It should be identical to the previous. But note in this case, summary() does not show the activation functions."
      ]
    },
    {
      "cell_type": "code",
      "metadata": {
        "id": "uTuMWFu0UEfZ",
        "colab_type": "code",
        "outputId": "37a6667e-d3fb-404a-d5cb-9e111fb15f77",
        "colab": {
          "base_uri": "https://localhost:8080/",
          "height": 289
        }
      },
      "source": [
        "model.summary()"
      ],
      "execution_count": 0,
      "outputs": [
        {
          "output_type": "stream",
          "text": [
            "Model: \"sequential_7\"\n",
            "_________________________________________________________________\n",
            "Layer (type)                 Output Shape              Param #   \n",
            "=================================================================\n",
            "flatten_7 (Flatten)          (None, 784)               0         \n",
            "_________________________________________________________________\n",
            "dense_9 (Dense)              (None, 128)               100480    \n",
            "_________________________________________________________________\n",
            "dense_10 (Dense)             (None, 512)               66048     \n",
            "_________________________________________________________________\n",
            "dense_11 (Dense)             (None, 10)                5130      \n",
            "=================================================================\n",
            "Total params: 171,658\n",
            "Trainable params: 171,658\n",
            "Non-trainable params: 0\n",
            "_________________________________________________________________\n"
          ],
          "name": "stdout"
        }
      ]
    },
    {
      "cell_type": "markdown",
      "metadata": {
        "id": "o3MKPPfHUEfd",
        "colab_type": "text"
      },
      "source": [
        "## Basic DNN as Sequential API (list form)\n",
        "\n",
        "Let's repeat the above, but instead specify the layers as a parameter to the Sequential() object, we will specify them using a list.\n",
        "\n",
        "You will need to:\n",
        "\n",
        "    1. Define the hidden layer.\n",
        "    2. Define the output (classifier) layer."
      ]
    },
    {
      "cell_type": "code",
      "metadata": {
        "id": "2Rk5f_oMUEfe",
        "colab_type": "code",
        "colab": {}
      },
      "source": [
        "from tensorflow.keras import Sequential\n",
        "from tensorflow.keras.layers import Dense\n",
        "\n",
        "# Let's start a sequential model\n",
        "model = Sequential([ # input layer\n",
        "                     Flatten(input_shape=(28, 28, 1)),\n",
        "                     Dense(128, activation='relu'),\n",
        "                     # hidden layer\n",
        "                     Dense(128, activation='relu'),\n",
        "                     # output layer\n",
        "                     Dense(10, activation='softmax'),\n",
        "                    ])"
      ],
      "execution_count": 0,
      "outputs": []
    },
    {
      "cell_type": "markdown",
      "metadata": {
        "id": "Bzf8SKTyUEfj",
        "colab_type": "text"
      },
      "source": [
        "### Verify the model architecture using summary method\n",
        "\n",
        "It should be identical to the previous."
      ]
    },
    {
      "cell_type": "code",
      "metadata": {
        "id": "MKeMnjYPUEfk",
        "colab_type": "code",
        "outputId": "4d23f743-bf14-4df9-b948-fe9227c97410",
        "colab": {
          "base_uri": "https://localhost:8080/",
          "height": 289
        }
      },
      "source": [
        "model.summary()"
      ],
      "execution_count": 0,
      "outputs": [
        {
          "output_type": "stream",
          "text": [
            "Model: \"sequential_9\"\n",
            "_________________________________________________________________\n",
            "Layer (type)                 Output Shape              Param #   \n",
            "=================================================================\n",
            "flatten_9 (Flatten)          (None, 784)               0         \n",
            "_________________________________________________________________\n",
            "dense_15 (Dense)             (None, 128)               100480    \n",
            "_________________________________________________________________\n",
            "dense_16 (Dense)             (None, 128)               16512     \n",
            "_________________________________________________________________\n",
            "dense_17 (Dense)             (None, 10)                1290      \n",
            "=================================================================\n",
            "Total params: 118,282\n",
            "Trainable params: 118,282\n",
            "Non-trainable params: 0\n",
            "_________________________________________________________________\n"
          ],
          "name": "stdout"
        }
      ]
    },
    {
      "cell_type": "markdown",
      "metadata": {
        "id": "JvQ62CqSUEfn",
        "colab_type": "text"
      },
      "source": [
        "## Basic DNN as Functional API \n",
        "\n",
        "Let's repeat the above, but instead specify the layers using the functional API.\n",
        "\n",
        "This will need to:\n",
        "\n",
        "    1. Specify the input shape for the Input object\n",
        "    2. Connect the Input object to the Flatten layer.\n",
        "    3. Connect the Flatten output to the input Dense layer.\n",
        "    4. Specify the hidden and output layers."
      ]
    },
    {
      "cell_type": "code",
      "metadata": {
        "id": "6YBNgKa4UEfo",
        "colab_type": "code",
        "colab": {}
      },
      "source": [
        "from tensorflow.keras import Model, Input\n",
        "from tensorflow.keras.layers import Dense\n",
        "\n",
        "# Define the input vector for the 28x28 images\n",
        "# HINT: Should be a tuple of height and width\n",
        "inputs = Input((28,28))\n",
        "\n",
        "# Let's flatten the image into a 1D vector\n",
        "# HINT: the input vector is where you defined the input shape\n",
        "x = Flatten()(inputs)\n",
        "\n",
        "# Define the input layer and connect the flattened input vector\n",
        "# HINT: the output of Flatten() is the flattened input vector\n",
        "x = Dense(128, activation='relu')(x)\n",
        "\n",
        "# Define the hidden layer and connect the hidden layer to it.\n",
        "x = Dense(512, activation='relu')(x)\n",
        "\n",
        "# Define the output layer and connect the hidden layer to it.\n",
        "outputs = Dense(10, activation='softmax')(x)\n",
        "\n",
        "# Let's put it together: \n",
        "# HINT: inputs to outputs\n",
        "model = Model(inputs, outputs)"
      ],
      "execution_count": 0,
      "outputs": []
    },
    {
      "cell_type": "markdown",
      "metadata": {
        "id": "fC-Cc5UEUEft",
        "colab_type": "text"
      },
      "source": [
        "### Verify the model architecture using summary method\n",
        "\n",
        "It should be identical to the previous."
      ]
    },
    {
      "cell_type": "code",
      "metadata": {
        "id": "Vyp-rrM3UEfu",
        "colab_type": "code",
        "outputId": "33ad22f7-ff27-4a3f-90af-d8516e71a539",
        "colab": {
          "base_uri": "https://localhost:8080/",
          "height": 323
        }
      },
      "source": [
        "model.summary()"
      ],
      "execution_count": 0,
      "outputs": [
        {
          "output_type": "stream",
          "text": [
            "Model: \"model\"\n",
            "_________________________________________________________________\n",
            "Layer (type)                 Output Shape              Param #   \n",
            "=================================================================\n",
            "input_1 (InputLayer)         [(None, 28, 28)]          0         \n",
            "_________________________________________________________________\n",
            "flatten_10 (Flatten)         (None, 784)               0         \n",
            "_________________________________________________________________\n",
            "dense_18 (Dense)             (None, 128)               100480    \n",
            "_________________________________________________________________\n",
            "dense_19 (Dense)             (None, 512)               66048     \n",
            "_________________________________________________________________\n",
            "dense_20 (Dense)             (None, 10)                5130      \n",
            "=================================================================\n",
            "Total params: 171,658\n",
            "Trainable params: 171,658\n",
            "Non-trainable params: 0\n",
            "_________________________________________________________________\n"
          ],
          "name": "stdout"
        }
      ]
    },
    {
      "cell_type": "markdown",
      "metadata": {
        "id": "p6Z2uSt8UEfw",
        "colab_type": "text"
      },
      "source": [
        "## End of Lab"
      ]
    }
  ]
}